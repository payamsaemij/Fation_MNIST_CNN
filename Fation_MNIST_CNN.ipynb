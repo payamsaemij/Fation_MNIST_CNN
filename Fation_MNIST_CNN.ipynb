{
 "cells": [
  {
   "cell_type": "code",
   "execution_count": null,
   "metadata": {},
   "outputs": [],
   "source": [
    "from keras.layers.reshaping.flatten import Flatten\n",
    "import numpy as np\n",
    "import tensorflow as tf\n",
    "import pandas as pd\n",
    "import matplotlib.pyplot as plt\n",
    "from tensorflow.keras import datasets , models , layers \n",
    "import keras"
   ]
  },
  {
   "cell_type": "code",
   "execution_count": null,
   "metadata": {},
   "outputs": [],
   "source": [
    "(training_images, training_labels ) , (test_images , test_labels) = datasets.fashion_mnist.load_data()"
   ]
  },
  {
   "cell_type": "code",
   "execution_count": null,
   "metadata": {},
   "outputs": [],
   "source": [
    "row , cul = 3 , 3\n",
    "fig, axes = plt.subplots(row, cul, figsize=(1.5*row,2*cul))\n",
    "for i in range (9):\n",
    "  ax = axes[i//cul , i%cul]\n",
    "  ax.imshow(training_images[i] , cmap='gray')\n",
    "  ax.set_title('Labels: {}'.format(training_labels[i]))\n",
    "\n",
    "plt.tight_layout()\n",
    "plt.show()"
   ]
  },
  {
   "cell_type": "code",
   "execution_count": null,
   "metadata": {},
   "outputs": [],
   "source": [
    "print(\"training data shape : \" , training_images.shape ,' , ', training_labels.shape)\n",
    "print(\"test_data shape : \" , test_images.shape , ' , ' , training_labels.shape)"
   ]
  },
  {
   "cell_type": "code",
   "execution_count": null,
   "metadata": {},
   "outputs": [],
   "source": [
    "classes = np.unique(training_labels)\n",
    "number_of_classes = len(classes)\n",
    "print(\"classes are : \" , classes)\n",
    "print(\"number of classes is : \" , number_of_classes)"
   ]
  }
 ],
 "metadata": {
  "kernelspec": {
   "display_name": "Python 3",
   "language": "python",
   "name": "python3"
  },
  "language_info": {
   "codemirror_mode": {
    "name": "ipython",
    "version": 3
   },
   "file_extension": ".py",
   "mimetype": "text/x-python",
   "name": "python",
   "nbconvert_exporter": "python",
   "pygments_lexer": "ipython3",
   "version": "3.10.0"
  },
  "orig_nbformat": 4
 },
 "nbformat": 4,
 "nbformat_minor": 2
}
